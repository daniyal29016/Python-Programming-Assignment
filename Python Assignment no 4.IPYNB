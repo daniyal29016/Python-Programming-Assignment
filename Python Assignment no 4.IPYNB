{
 "cells": [
  {
   "cell_type": "code",
   "execution_count": 2,
   "metadata": {},
   "outputs": [
    {
     "name": "stdout",
     "output_type": "stream",
     "text": [
      "{'first_name': 'Syed', 'last_name': 'Daniyal', 'age': 24, 'city': 'Karchi'}\n",
      "{'first_name': 'Syed', 'last_name': 'Daniyal', 'age': 24, 'city': 'Karchi', 'Qualificiation': 'BS Computer Science'}\n",
      "{'first_name': 'Syed', 'last_name': 'Daniyal', 'age': 24, 'city': 'Karchi'}\n"
     ]
    }
   ],
   "source": [
    "\n",
    "#Question1\n",
    "data={\n",
    "    \"first_name\":\"Syed\" ,\n",
    "    \"last_name\":\"Daniyal\", \n",
    "    \"age\":24,\n",
    "    \"city\":\"Karchi\"\n",
    "}\n",
    "#print information\n",
    "print(data)\n",
    "#add qualification\n",
    "data[\"Qualificiation\"]=\"BS Computer Science\"\n",
    "print(data)\n",
    "#delete qualification\n",
    "data.pop(\"Qualificiation\")\n",
    "print(data)"
   ]
  },
  {
   "cell_type": "code",
   "execution_count": 3,
   "metadata": {},
   "outputs": [
    {
     "name": "stdout",
     "output_type": "stream",
     "text": [
      "1. Karchi \n",
      "   Pakistan  \n",
      "   14900000  \n",
      "   World’s second most populous town\n",
      "2.NewDehli \n",
      "   India  \n",
      "   257803  \n",
      "   The Delhi Metro system was voted the 2nd best in the world\n",
      "3.  Shanghai \n",
      "   China  \n",
      "   26317000  \n",
      "   Shanghai is a world finance and cultural center\n"
     ]
    }
   ],
   "source": [
    "\n",
    "#Question2\n",
    "cities= {1:{\"city\":\"Karchi\",\"Country\":\"Pakistan\",\"Population\":\"14900000\",\"Fact\": \"World’s second most populous town\" },\n",
    "         2:{\"city\":\"NewDehli\",\"Country\":\"India\", \"Population\":\"257803\", \"Fact\": \"The Delhi Metro system was voted the 2nd best in the world\"},\n",
    "         3:{\"city\":\"Shanghai\",\"Country\":\"China\",\"Population\":\"26317000\", \"Fact\":  \"Shanghai is a world finance and cultural center\"}\n",
    "        }\n",
    "print(\"1. \" + cities[1][\"city\"] +\" \\n   \"+ cities[1][\"Country\"] +\"  \\n   \"+ cities[1][\"Population\"] +\"  \\n   \"+ cities[1][\"Fact\"])\n",
    "print (\"2.\" + cities[2][\"city\"] +\" \\n   \"+ cities[2][\"Country\"]  +\"  \\n   \"+ cities[2][\"Population\"]+\"  \\n   \"+ cities[2][\"Fact\"])\n",
    "print (\"3.  \" + cities[3][\"city\"] +\" \\n   \"    + cities[3][\"Country\"]  +\"  \\n   \"+ cities[3][\"Population\"]+\"  \\n   \"   + cities[3][\"Fact\"])"
   ]
  },
  {
   "cell_type": "code",
   "execution_count": 4,
   "metadata": {},
   "outputs": [
    {
     "name": "stdout",
     "output_type": "stream",
     "text": [
      "Enter age:  5\n",
      "The Ticket of movie is $10\n"
     ]
    }
   ],
   "source": [
    "\n",
    "#Question3\n",
    "age=int(input(\"Enter age:  \"))\n",
    "if age < 3:\n",
    "     print(\"The Ticket of movie is free\")\n",
    "elif age == 3 or age <= 12:\n",
    "       print(\"The Ticket of movie is $10\")\n",
    "else:\n",
    "       print(\"The Ticket of movie is $15\")"
   ]
  },
  {
   "cell_type": "code",
   "execution_count": 5,
   "metadata": {},
   "outputs": [
    {
     "name": "stdout",
     "output_type": "stream",
     "text": [
      "One of my favorite books is Beauty in the beast\n"
     ]
    }
   ],
   "source": [
    "\n",
    "#Question4\n",
    "def favorite_book(title):\n",
    "     print(\"One of my favorite books is\"+title)\n",
    "favorite_book(\" Beauty in the beast\")"
   ]
  },
  {
   "cell_type": "code",
   "execution_count": 6,
   "metadata": {},
   "outputs": [
    {
     "name": "stdout",
     "output_type": "stream",
     "text": [
      "Guess a number (<30): 25\n",
      "Lower...\n",
      "Guess a number (<30): 15\n",
      "Higher...\n",
      "Guess a number (<30): 20\n",
      "Higher...\n",
      "Guess a number (<30): 244\n",
      "Lower...\n",
      "Guess a number (<30): 24\n",
      "Lower...\n",
      "Guess a number (<30): 22\n",
      "Lower...\n",
      "Guess a number (<30): 21\n",
      "You guessed it! The number was 21 in 7 tries\n"
     ]
    }
   ],
   "source": [
    "\n",
    "#Question5\n",
    "import random\n",
    "secret_number = random.randint(1, 30)\n",
    "tries, guess = 0, 0\n",
    "while guess != secret_number:\n",
    "    guess = int(input(\"Guess a number (<30): \"))\n",
    "    if guess > secret_number:\n",
    "        print(\"Lower...\")\n",
    "    elif guess < secret_number:\n",
    "        print(\"Higher...\")\n",
    "    tries += 1\n",
    "print('You guessed it! The number was {} in {} tries'.format(guess, tries))"
   ]
  },
  {
   "cell_type": "code",
   "execution_count": null,
   "metadata": {},
   "outputs": [],
   "source": []
  }
 ],
 "metadata": {
  "kernelspec": {
   "display_name": "Python 3",
   "language": "python",
   "name": "python3"
  },
  "language_info": {
   "codemirror_mode": {
    "name": "ipython",
    "version": 3
   },
   "file_extension": ".py",
   "mimetype": "text/x-python",
   "name": "python",
   "nbconvert_exporter": "python",
   "pygments_lexer": "ipython3",
   "version": "3.7.4"
  }
 },
 "nbformat": 4,
 "nbformat_minor": 2
}
