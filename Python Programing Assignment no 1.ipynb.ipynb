{
 "cells": [
  {
   "cell_type": "code",
   "execution_count": 48,
   "metadata": {},
   "outputs": [
    {
     "name": "stdout",
     "output_type": "stream",
     "text": [
      "twinkle, twinkle, little star,\n",
      "\tHow I wonder what you are!\n",
      "\t\tUp above the world so high,\n",
      "\t\tLike a diamond in the sky,\n",
      "Twinkle, twinkle, little star,\n",
      "\tHow I wonder what you are!\n"
     ]
    }
   ],
   "source": [
    "#Question1\n",
    "a =(\"twinkle, twinkle, little star,\" \"\\n\\t\" \n",
    "    \"How I wonder what you are!\" ) \n",
    "\n",
    "b =(\"Up above the world so high,\" \"\\n\\t\\t\" \n",
    "   \"Like a diamond in the sky,\")\n",
    "\n",
    "c =(\"Twinkle, twinkle, little star,\" \"\\n\\t\" \n",
    "    \"How I wonder what you are!\")\n",
    "\n",
    "print (a + \"\\n\\t\\t\" +b + \"\\n\" + c)\n"
   ]
  },
  {
   "cell_type": "code",
   "execution_count": 2,
   "metadata": {},
   "outputs": [
    {
     "name": "stdout",
     "output_type": "stream",
     "text": [
      "Python version\n",
      "3.7.4 (default, Aug  9 2019, 18:34:13) [MSC v.1915 64 bit (AMD64)]\n",
      "Version info.\n",
      "sys.version_info(major=3, minor=7, micro=4, releaselevel='final', serial=0)\n"
     ]
    }
   ],
   "source": [
    "#Question2\n",
    "import sys\n",
    "print(\"Python version\")\n",
    "print (sys.version)\n",
    "print(\"Version info.\")\n",
    "print (sys.version_info)\n",
    "\n"
   ]
  },
  {
   "cell_type": "code",
   "execution_count": 21,
   "metadata": {},
   "outputs": [
    {
     "name": "stdout",
     "output_type": "stream",
     "text": [
      "Current Date & Time : \n",
      "21:39:44 11/01/19 \n"
     ]
    }
   ],
   "source": [
    "#Question3\n",
    "import datetime\n",
    "now = datetime.datetime.now()\n",
    "a=(\"Current Date & Time : \")\n",
    "b= (now.strftime(\"%H:%M:%S %D \"))\n",
    "print (a+\"\\n\"+b)"
   ]
  },
  {
   "cell_type": "code",
   "execution_count": 3,
   "metadata": {},
   "outputs": [
    {
     "name": "stdout",
     "output_type": "stream",
     "text": [
      "Daniyal Syed\n"
     ]
    }
   ],
   "source": [
    "#Question4\n",
    "First_name= (\"Syed\")\n",
    "Last_name= (\"Daniyal\")\n",
    "print (Last_name + \" \" +First_name)"
   ]
  },
  {
   "cell_type": "code",
   "execution_count": 1,
   "metadata": {},
   "outputs": [
    {
     "name": "stdout",
     "output_type": "stream",
     "text": [
      "Enter Your First Number: 4\n",
      "Enter Your Second Number: 4\n",
      "Addition: 8\n"
     ]
    }
   ],
   "source": [
    "#Question5\n",
    "a = int(input(\"Enter Your First Number: \"))\n",
    "b = int(input(\"Enter Your Second Number: \"))\n",
    "addition = a + b \n",
    "print(\"Addition:\", addition)"
   ]
  },
  {
   "cell_type": "code",
   "execution_count": 29,
   "metadata": {},
   "outputs": [],
   "source": [
    "#Question6\n",
    "PI = 3.142\n",
    "radius = float(input(' Please Enter the radius of a circle: '))\n",
    "area = PI * radius \n",
    "\n",
    "\n",
    "print(\" Area Of a Circle = %.1f \" %area)\n",
    "\n"
   ]
  },
  {
   "cell_type": "code",
   "execution_count": null,
   "metadata": {},
   "outputs": [],
   "source": [
    "\n"
   ]
  },
  {
   "cell_type": "code",
   "execution_count": null,
   "metadata": {},
   "outputs": [],
   "source": []
  },
  {
   "cell_type": "code",
   "execution_count": null,
   "metadata": {},
   "outputs": [],
   "source": []
  }
 ],
 "metadata": {
  "kernelspec": {
   "display_name": "Python 3",
   "language": "python",
   "name": "python3"
  },
  "language_info": {
   "codemirror_mode": {
    "name": "ipython",
    "version": 3
   },
   "file_extension": ".py",
   "mimetype": "text/x-python",
   "name": "python",
   "nbconvert_exporter": "python",
   "pygments_lexer": "ipython3",
   "version": "3.7.4"
  }
 },
 "nbformat": 4,
 "nbformat_minor": 2
}
